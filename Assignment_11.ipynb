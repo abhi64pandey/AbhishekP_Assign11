{
 "cells": [
  {
   "cell_type": "code",
   "execution_count": null,
   "id": "f582cad1",
   "metadata": {},
   "outputs": [],
   "source": [
    "Q1: Create an assert statement that throws an AssertionError if the variable spam is a negative integer.\n",
    "    \n",
    "Solution:\n",
    "    "
   ]
  },
  {
   "cell_type": "code",
   "execution_count": 4,
   "id": "69da5284",
   "metadata": {},
   "outputs": [
    {
     "ename": "AssertionError",
     "evalue": "",
     "output_type": "error",
     "traceback": [
      "\u001b[1;31m---------------------------------------------------------------------------\u001b[0m",
      "\u001b[1;31mAssertionError\u001b[0m                            Traceback (most recent call last)",
      "\u001b[1;32m~\\AppData\\Local\\Temp/ipykernel_1380/1711688773.py\u001b[0m in \u001b[0;36m<module>\u001b[1;34m\u001b[0m\n\u001b[0;32m      1\u001b[0m \u001b[0mnum\u001b[0m \u001b[1;33m=\u001b[0m \u001b[1;33m-\u001b[0m\u001b[1;36m1\u001b[0m\u001b[1;33m\u001b[0m\u001b[1;33m\u001b[0m\u001b[0m\n\u001b[1;32m----> 2\u001b[1;33m \u001b[1;32massert\u001b[0m \u001b[0mnum\u001b[0m\u001b[1;33m>\u001b[0m\u001b[1;36m0\u001b[0m\u001b[1;33m\u001b[0m\u001b[1;33m\u001b[0m\u001b[0m\n\u001b[0m",
      "\u001b[1;31mAssertionError\u001b[0m: "
     ]
    }
   ],
   "source": [
    "num = -1\n",
    "assert num>0"
   ]
  },
  {
   "cell_type": "code",
   "execution_count": null,
   "id": "828fb2e3",
   "metadata": {},
   "outputs": [],
   "source": [
    "Q2: Write an assert statement that triggers an AssertionError if the variables eggs and bacon contain strings\n",
    "    that are the same as each other,even if their cases are different \n",
    "    (that is, 'hello' and 'hello' are considered the same, and 'goodbye' and 'GOODbye' are also considered the same).\n",
    "    \n",
    "Solution:\n",
    "    \n",
    "Either assert eggs.lower() != bacon.lower() 'The eggs and bacon variables are the same!' or assert eggs.upper() != bacon.upper(), 'The eggs and bacon variables are the same!'"
   ]
  },
  {
   "cell_type": "code",
   "execution_count": null,
   "id": "623180eb",
   "metadata": {},
   "outputs": [],
   "source": [
    "Q3: Create an assert statement that throws an AssertionError every time.\n",
    "    \n",
    "Solution:\n",
    "    \n",
    "assert False, 'This assertion always triggers.'"
   ]
  },
  {
   "cell_type": "code",
   "execution_count": null,
   "id": "e59bad8a",
   "metadata": {},
   "outputs": [],
   "source": [
    "Q4: What are the two lines that must be present in your software in order to call logging.debug()?\n",
    "    \n",
    "Solution:\n",
    "    \n",
    "To be able to call logging.debug(), we must have these two lines at the start of your program:"
   ]
  },
  {
   "cell_type": "code",
   "execution_count": 8,
   "id": "ecdcfaf4",
   "metadata": {},
   "outputs": [],
   "source": [
    "import logging\n",
    "logging.basicConfig(level=logging.DEBUG, format=' %(asctime)s - %(levelname)s -  %(message)s')"
   ]
  },
  {
   "cell_type": "code",
   "execution_count": null,
   "id": "8aa7f535",
   "metadata": {},
   "outputs": [],
   "source": [
    "Q5: What are the two lines that your program must have in order to have logging.debug() \n",
    "    send a logging message to a file named programLog.txt?\n",
    "    \n",
    "Solution:\n",
    "    \n",
    "To be able to send logging messages to a file named programLog.txt with logging.debug(),\n",
    "we must have these two lines at the start of your program:"
   ]
  },
  {
   "cell_type": "code",
   "execution_count": 9,
   "id": "c1f1f4a8",
   "metadata": {},
   "outputs": [],
   "source": [
    "import logging\n",
    "logging.basicConfig(filename='programLog.txt', level=logging.DEBUG,\n",
    "format=' %(asctime)s -  %(levelname)s -  %(message)s')"
   ]
  },
  {
   "cell_type": "code",
   "execution_count": null,
   "id": "b17038cb",
   "metadata": {},
   "outputs": [],
   "source": [
    "Q6: What are the five levels of logging?\n",
    "    \n",
    "Solution:\n",
    "    \n",
    "DEBUG, INFO, WARNING, ERROR, and CRITICAL"
   ]
  },
  {
   "cell_type": "code",
   "execution_count": null,
   "id": "5661c19d",
   "metadata": {},
   "outputs": [],
   "source": [
    "Q7: What line of code would you add to your software to disable all logging messages?\n",
    "    \n",
    "Solution:\n",
    "    \n",
    "logging.disable(logging.CRITICAL)"
   ]
  },
  {
   "cell_type": "code",
   "execution_count": null,
   "id": "47071b06",
   "metadata": {},
   "outputs": [],
   "source": [
    "Q8: Why is using logging messages better than using print() to display the same message?\n",
    "\n",
    "Solution:\n",
    "    \n",
    "The logging package has a lot of useful features:\n",
    "\n",
    "Easy to see where and when (even what line no.) a logging call is being made from.\n",
    "We can log to files, sockets, pretty much anything, all at the same time.\n",
    "We can differentiate your logging based on severity.\n",
    "Print doesn't have any of these.\n",
    "Hence logging messages are better than using print()."
   ]
  },
  {
   "cell_type": "code",
   "execution_count": null,
   "id": "b5d9cba6",
   "metadata": {},
   "outputs": [],
   "source": [
    "Q9: What are the differences between the Step Over, Step In, and Step Out buttons in the debugger?\n",
    "    \n",
    "Solution:\n",
    "    \n",
    "The Step In button will move the debugger into a function call.\n",
    "The Step Over button will quickly execute the function call without stepping into it. \n",
    "The Step Out button will quickly execute the rest of the code until it steps out of the function it currently is in."
   ]
  },
  {
   "cell_type": "code",
   "execution_count": null,
   "id": "9f021abc",
   "metadata": {},
   "outputs": [],
   "source": [
    "Q10: After you click Continue, when will the debugger stop ?\n",
    "    \n",
    "Solution:\n",
    "    \n",
    "After you click Continue, the debugger will stop when it has reached the end of the program or a line with a breakpoint."
   ]
  },
  {
   "cell_type": "code",
   "execution_count": null,
   "id": "e895df8a",
   "metadata": {},
   "outputs": [],
   "source": [
    "Q11: What is the concept of a breakpoint?\n",
    "    \n",
    "Solution:\n",
    "    \n",
    "A breakpoint is a setting on a line of code that causes the debugger to pause when the program execution reaches the line."
   ]
  }
 ],
 "metadata": {
  "kernelspec": {
   "display_name": "Python 3 (ipykernel)",
   "language": "python",
   "name": "python3"
  },
  "language_info": {
   "codemirror_mode": {
    "name": "ipython",
    "version": 3
   },
   "file_extension": ".py",
   "mimetype": "text/x-python",
   "name": "python",
   "nbconvert_exporter": "python",
   "pygments_lexer": "ipython3",
   "version": "3.9.7"
  }
 },
 "nbformat": 4,
 "nbformat_minor": 5
}
